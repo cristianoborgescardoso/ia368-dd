{
 "cells": [
  {
   "cell_type": "code",
   "execution_count": 14,
   "metadata": {},
   "outputs": [],
   "source": [
    "#!pip install openai -q\n",
    "#!pip install pandas -q\n",
    "#!pip install datasets -q\n",
    "#!pip install langchain -q\n",
    "#!pip3 install scikit-learn scipy matplotlib -q"
   ]
  },
  {
   "cell_type": "code",
   "execution_count": 1,
   "metadata": {},
   "outputs": [],
   "source": [
    "import pandas as pd\n",
    "import os\n",
    "import requests\n",
    "import tarfile\n",
    "import time\n",
    "\n",
    "from datasets import load_dataset\n",
    "from langchain import PromptTemplate, OpenAI, LLMChain\n",
    "from getpass import getpass\n",
    "from sklearn.metrics import classification_report, confusion_matrix"
   ]
  },
  {
   "attachments": {},
   "cell_type": "markdown",
   "metadata": {},
   "source": [
    "## Dataset: IMDB Movie Review\n",
    "For this project, we'll use the [IMDB Movie Review dataset](https://huggingface.co/datasets/imdb), available on HuggingFace."
   ]
  },
  {
   "cell_type": "code",
   "execution_count": 2,
   "metadata": {},
   "outputs": [
    {
     "name": "stderr",
     "output_type": "stream",
     "text": [
      "Found cached dataset imdb (C:/Users/crist/.cache/huggingface/datasets/imdb/plain_text/1.0.0/d613c88cf8fa3bab83b4ded3713f1f74830d1100e171db75bbddb80b3345c9c0)\n"
     ]
    },
    {
     "name": "stdout",
     "output_type": "stream",
     "text": [
      "{'text': 'I rented I AM CURIOUS-YELLOW from my video store because of all the controversy that surrounded it when it was first released in 1967. I also heard that at first it was seized by U.S. customs if it ever tried to enter this country, therefore being a fan of films considered \"controversial\" I really had to see this for myself.<br /><br />The plot is centered around a young Swedish drama student named Lena who wants to learn everything she can about life. In particular she wants to focus her attentions to making some sort of documentary on what the average Swede thought about certain political issues such as the Vietnam War and race issues in the United States. In between asking politicians and ordinary denizens of Stockholm about their opinions on politics, she has sex with her drama teacher, classmates, and married men.<br /><br />What kills me about I AM CURIOUS-YELLOW is that 40 years ago, this was considered pornographic. Really, the sex and nudity scenes are few and far between, even then it\\'s not shot like some cheaply made porno. While my countrymen mind find it shocking, in reality sex and nudity are a major staple in Swedish cinema. Even Ingmar Bergman, arguably their answer to good old boy John Ford, had sex scenes in his films.<br /><br />I do commend the filmmakers for the fact that any sex shown in the film is shown for artistic purposes rather than just to shock people and make money to be shown in pornographic theaters in America. I AM CURIOUS-YELLOW is a good film for anyone wanting to study the meat and potatoes (no pun intended) of Swedish cinema. But really, this film doesn\\'t have much of a plot.', 'label': 0}\n"
     ]
    }
   ],
   "source": [
    "dataset = load_dataset(\"imdb\", split = 'train')\n",
    "dataset\n",
    "# Print the first sample in the dataset\n",
    "print(dataset[0])\n"
   ]
  },
  {
   "cell_type": "code",
   "execution_count": 3,
   "metadata": {},
   "outputs": [
    {
     "name": "stdout",
     "output_type": "stream",
     "text": [
      "Text: I rented I AM CURIOUS-YELLOW from my video store because of all the controversy that surrounded it when it was first released in 1967. I also heard that at first it was seized by U.S. customs if it ever tried to enter this country, therefore being a fan of films considered \"controversial\" I really had to see this for myself.<br /><br />The plot is centered around a young Swedish drama student named Lena who wants to learn everything she can about life. In particular she wants to focus her attentions to making some sort of documentary on what the average Swede thought about certain political issues such as the Vietnam War and race issues in the United States. In between asking politicians and ordinary denizens of Stockholm about their opinions on politics, she has sex with her drama teacher, classmates, and married men.<br /><br />What kills me about I AM CURIOUS-YELLOW is that 40 years ago, this was considered pornographic. Really, the sex and nudity scenes are few and far between, even then it's not shot like some cheaply made porno. While my countrymen mind find it shocking, in reality sex and nudity are a major staple in Swedish cinema. Even Ingmar Bergman, arguably their answer to good old boy John Ford, had sex scenes in his films.<br /><br />I do commend the filmmakers for the fact that any sex shown in the film is shown for artistic purposes rather than just to shock people and make money to be shown in pornographic theaters in America. I AM CURIOUS-YELLOW is a good film for anyone wanting to study the meat and potatoes (no pun intended) of Swedish cinema. But really, this film doesn't have much of a plot.\n",
      "Label: 0\n"
     ]
    }
   ],
   "source": [
    "# Print the text and label of the first sample\n",
    "print(\"Text:\", dataset[0][\"text\"])\n",
    "print(\"Label:\", dataset[0][\"label\"])\n",
    "## creating a code to print sample data from the dataset    "
   ]
  },
  {
   "cell_type": "markdown",
   "metadata": {},
   "source": []
  },
  {
   "cell_type": "code",
   "execution_count": 5,
   "metadata": {},
   "outputs": [
    {
     "name": "stderr",
     "output_type": "stream",
     "text": [
      "Found cached dataset imdb (C:/Users/crist/.cache/huggingface/datasets/imdb/plain_text/1.0.0/d613c88cf8fa3bab83b4ded3713f1f74830d1100e171db75bbddb80b3345c9c0)\n"
     ]
    }
   ],
   "source": [
    "import openai\n",
    "import random\n",
    "\n",
    "\n",
    "# Read the API key from the environment variable\n",
    "api_key = os.environ.get(\"OPENAI_API_KEY\")\n",
    "\n",
    "if api_key is None:\n",
    "    raise ValueError(\"The OPENAI_API_KEY environment variable is not set\")\n",
    "\n",
    "# Replace this with your own OpenAI API key\n",
    "openai.api_key = api_key\n",
    "\n",
    "# Load the IMDB Movie Review dataset using Hugging Face's datasets library\n",
    "dataset = load_dataset(\"imdb\", split=\"train\")\n",
    "\n",
    "# Function to perform sentiment analysis using ChatGPT\n",
    "def analyze_sentiment(review):\n",
    "    prompt = f\"Analyze the sentiment of the following movie review: '{review}'\"\n",
    "\n",
    "    response = openai.Completion.create(\n",
    "        engine=\"gpt-3.5-turbo\",\n",
    "        prompt=prompt,\n",
    "        max_tokens=30,\n",
    "        n=1,\n",
    "        stop=None,\n",
    "        temperature=0.5,\n",
    "    )\n",
    "\n",
    "    sentiment = response.choices[0].text.strip()\n",
    "    return sentiment.lower()\n",
    "\n",
    "# Randomly sample 10 instances from the dataset\n",
    "sample_size = 10\n",
    "sample_indices = random.sample(range(len(dataset)), sample_size)\n",
    "sampled_dataset = dataset.select(sample_indices)"
   ]
  },
  {
   "cell_type": "code",
   "execution_count": 22,
   "metadata": {},
   "outputs": [],
   "source": [
    "def analyze_sentiment(review):\n",
    "    prompt = f\"Analyze the sentiment of the following movie review: '{review}'\"\n",
    "\n",
    "    response = openai.ChatCompletion.create(\n",
    "        model=\"gpt-3.5-turbo\",\n",
    "        messages=[\n",
    "            {\"role\": \"system\", \"content\": \"You are a helpful assistant that analyzes the sentiment of movie reviews.\"},\n",
    "            {\"role\": \"user\", \"content\": f\"Analyze this review: '{review}'\"}\n",
    "        ],\n",
    "        max_tokens=30,\n",
    "        n=1,\n",
    "        temperature=0.5,\n",
    "    )\n",
    "\n",
    "    sentiment = response['choices'][0]['message']['content'].strip()\n",
    "    return sentiment.lower()"
   ]
  },
  {
   "cell_type": "code",
   "execution_count": 23,
   "metadata": {},
   "outputs": [
    {
     "data": {
      "application/vnd.jupyter.widget-view+json": {
       "model_id": "2b48818a2008481185ef869273506f7d",
       "version_major": 2,
       "version_minor": 0
      },
      "text/plain": [
       "Flattening the indices:   0%|          | 0/10 [00:00<?, ? examples/s]"
      ]
     },
     "metadata": {},
     "output_type": "display_data"
    }
   ],
   "source": [
    "# Perform sentiment analysis on the sampled instances\n",
    "sentiment_results = []\n",
    "for example in sampled_dataset:\n",
    "    sentiment = analyze_sentiment(example[\"text\"])\n",
    "    sentiment_results.append(sentiment)\n",
    "\n",
    "# Add the sentiment analysis results to the sampled dataset\n",
    "sampled_dataset = sampled_dataset.add_column(\"sentiment\", sentiment_results)"
   ]
  },
  {
   "cell_type": "code",
   "execution_count": 24,
   "metadata": {},
   "outputs": [
    {
     "name": "stdout",
     "output_type": "stream",
     "text": [
      "Index\t Review\t Label\t Sentiment\n",
      "0\t It is written in stone that Disney animations simp ... \t 1 \t overall, the sentiment of this review is positive. the reviewer enjoyed the fact that the movie was not a typical disney musical and found the story to\n",
      "1\t This is an evocative and idealized portrait of the ... \t 1 \t based on the language used in this review, it seems to be a positive one. the reviewer describes the movie as \"excellent\" and \"\n",
      "2\t I love this anime! I was laughing my head off with ... \t 1 \t overall, the sentiment of this review is positive. the reviewer expresses their love for the anime and enjoys the humor and slapstick violence. the characters\n",
      "3\t The \"movie aimed at adults\" is a rare thing these  ... \t 1 \t overall, this review has a positive sentiment towards the movie moonstruck. the reviewer praises the fact that the movie is aimed at adults and does\n",
      "4\t Yes, he is! ...No, not because of Pintilie likes t ... \t 0 \t the sentiment of this review is negative. the reviewer expresses disgust and disapproval towards the director's use of nudity in his films, calling it \"\n",
      "5\t I love this show as it action packed with adventur ... \t 1 \t overall, the sentiment of this review is positive. the reviewer expresses their love for the show and highlights its action-packed nature, as well as the\n",
      "6\t I just saw this film on DVD last night, and decide ... \t 0 \t the sentiment of this review is negative. the reviewer finds the film depressing and mediocre with a superficial plot and insipid dialog. the reviewer also\n",
      "7\t What starts out as generational conflict in this m ... \t 1 \t overall, this review has a positive sentiment towards the movie. the reviewer highlights the generational conflict that is resolved with understanding, solemnity, and\n",
      "8\t From the opening shots of the lead actor, we are g ... \t 1 \t overall, the sentiment of this review is positive. the reviewer praises the director's ability to capture the theme of men being controlled by the women in\n",
      "9\t I Am Curious is really two films in one - half of  ... \t 0 \t based on the review, the sentiment towards the movie \"i am curious\" is negative. the reviewer finds that the two main themes of the\n"
     ]
    }
   ],
   "source": [
    "# Print the dataset with headers\n",
    "print(\"Index\\t\", \"Review\\t\", \"Label\\t\", \"Sentiment\")\n",
    "\n",
    "# Iterate through the dataset and print each row\n",
    "for i, example in enumerate(sampled_dataset):\n",
    "    print(f\"{i}\\t\", example[\"text\"][:50], \"...\", \"\\t\", example[\"label\"], \"\\t\", example[\"sentiment\"])"
   ]
  }
 ],
 "metadata": {
  "kernelspec": {
   "display_name": "Python 3",
   "language": "python",
   "name": "python3"
  },
  "language_info": {
   "codemirror_mode": {
    "name": "ipython",
    "version": 3
   },
   "file_extension": ".py",
   "mimetype": "text/x-python",
   "name": "python",
   "nbconvert_exporter": "python",
   "pygments_lexer": "ipython3",
   "version": "3.10.10"
  },
  "orig_nbformat": 4
 },
 "nbformat": 4,
 "nbformat_minor": 2
}
